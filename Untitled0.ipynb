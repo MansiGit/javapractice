{
  "nbformat": 4,
  "nbformat_minor": 0,
  "metadata": {
    "colab": {
      "provenance": [],
      "authorship_tag": "ABX9TyOj4vlXYbNikoYfRqcObF0O",
      "include_colab_link": true
    },
    "kernelspec": {
      "name": "python3",
      "display_name": "Python 3"
    },
    "language_info": {
      "name": "python"
    }
  },
  "cells": [
    {
      "cell_type": "markdown",
      "metadata": {
        "id": "view-in-github",
        "colab_type": "text"
      },
      "source": [
        "<a href=\"https://colab.research.google.com/github/MansiGit/javapractice/blob/master/Untitled0.ipynb\" target=\"_parent\"><img src=\"https://colab.research.google.com/assets/colab-badge.svg\" alt=\"Open In Colab\"/></a>"
      ]
    },
    {
      "cell_type": "code",
      "execution_count": null,
      "metadata": {
        "id": "WifO3y3Rnt9J"
      },
      "outputs": [],
      "source": [
        "import numpy as np\n",
        "import matplotlib.pyplot as plt\n",
        "import math"
      ]
    },
    {
      "cell_type": "code",
      "source": [
        "def calculate_threshold(sigmaA_square, sigmaB_square): \n",
        "  numl = 2 * sigmaA_square * sigmaB_square \n",
        "  num2 = 0.5 * math.log(sigmaB_square/sigmaA_square)\n",
        "  num3 = sigmaB_square - sigmaA_square \n",
        "  return (numl * num2) / num3 \n",
        "\n"
      ],
      "metadata": {
        "id": "2x20_5UoYCnR"
      },
      "execution_count": null,
      "outputs": []
    },
    {
      "cell_type": "code",
      "source": [
        "H = calculate_threshold(1,1.5) \n",
        "  print(H) \n"
      ],
      "metadata": {
        "id": "haUqRR7jYQpC"
      },
      "execution_count": null,
      "outputs": []
    },
    {
      "cell_type": "code",
      "source": [
        "sigmaA_square = 1 \n",
        "sigmaB_square = 1.5 \n",
        "H = calculate_threshold(sigmaA_square, sigmaB_square) \n",
        "N_values = [] \n",
        "for N in range(1,201,1): \n",
        "  A = (N * H) / sigmaA_square \n",
        "  B = (N * H) / sigmaB_square \n",
        "  pl = chi2.cdf(A, N) \n",
        "  p2 = 1 - chi2.cdf(B, N) \n",
        "  p = (pl * 0.5) + (p2 * 0.5) \n",
        "  if p >= 0.95: N_values.append(N) \n",
        "print(N_values) print(\"The minimum N value required is: \", N_values[0]) \n"
      ],
      "metadata": {
        "id": "OqoGQI3uYSfv"
      },
      "execution_count": null,
      "outputs": []
    },
    {
      "cell_type": "code",
      "source": [
        "#this is the format of training data\n",
        "a=[{(0,0):0,(0,1):0,(1,0):0,(1,1):0},\n",
        "   {(0,0):19,(0,1):1,(1,0):0,(1,1):0},\n",
        "   {(0,0):1,(0,1):1,(1,0):1,(1,1):150},\n",
        "   {(0,0):1,(0,1):1,(1,0):25,(1,1):0}]\n",
        "\n",
        "b=[1,2,1,2]\n",
        "\n",
        "x = {key: list() for key in b}\n",
        "for i in range(len(a)):\n",
        "  x[b[i]].append(a[i])\n",
        "\n",
        "#for label in x.keys(): print(label,x[label])\n",
        "\n",
        "dict_phi_value_per_feature={key: list() for key in b}\n",
        "\n",
        "for label in x.keys():\n",
        "  temp={(0,0):0,(0,1):0,(1,0):0,(1,1):0}\n",
        "  ctr=0\n",
        "  print(label,x[label])\n",
        "  for d in x[label]:\n",
        "    ctr+=1\n",
        "    for (k,j),value in d.items():\n",
        "      #print(k,j,value)\n",
        "      #print(temp)\n",
        "      if(value>0):\n",
        "        temp[(k,j)]+=1  \n",
        "  for loc,freq in temp.items():\n",
        "    if freq==0:\n",
        "      freq=0.001\n",
        "    temp[loc]=float(freq/ctr)\n",
        "  dict_phi_value_per_feature[label].append(temp)\n",
        "\n",
        "print(dict_phi_value_per_feature)\n",
        "# {1: [{(0, 0): 1, (0, 1): 1, (1, 0): 0, (1, 1): 0}, \n",
        "#      {(0, 0): 1, (0, 1): 1, (1, 0): 0, (1, 1): 0}],\n",
        " \n",
        "#  0: [{(0, 0): 1, (0, 1): 1, (1, 0): 0, (1, 1): 0}]}"
      ],
      "metadata": {
        "colab": {
          "base_uri": "https://localhost:8080/"
        },
        "id": "jSEVM12Hnvnp",
        "outputId": "b6bef04e-0a84-4e50-f94f-e92365b6555f"
      },
      "execution_count": null,
      "outputs": [
        {
          "output_type": "stream",
          "name": "stdout",
          "text": [
            "1 [{(0, 0): 0, (0, 1): 0, (1, 0): 0, (1, 1): 0}, {(0, 0): 1, (0, 1): 1, (1, 0): 1, (1, 1): 150}]\n",
            "2 [{(0, 0): 19, (0, 1): 1, (1, 0): 0, (1, 1): 0}, {(0, 0): 1, (0, 1): 1, (1, 0): 25, (1, 1): 0}]\n",
            "{1: [{(0, 0): 0.5, (0, 1): 0.5, (1, 0): 0.5, (1, 1): 0.5}], 2: [{(0, 0): 1.0, (0, 1): 1.0, (1, 0): 0.5, (1, 1): 0.0005}]}\n"
          ]
        }
      ]
    },
    {
      "cell_type": "code",
      "source": [
        "m=0\n",
        "for i in range(len(a)):\n",
        "  x = max(a[i].values())\n",
        "  if(x>m):m=x\n",
        "\n",
        "print(m)"
      ],
      "metadata": {
        "colab": {
          "base_uri": "https://localhost:8080/"
        },
        "id": "6QCRF9TKw_Jr",
        "outputId": "607a6eb5-1a79-44f4-a768-37d57fb2d1a9"
      },
      "execution_count": null,
      "outputs": [
        {
          "output_type": "stream",
          "name": "stdout",
          "text": [
            "150\n"
          ]
        }
      ]
    },
    {
      "cell_type": "code",
      "source": [
        "keyList = [0,1,0,1,0,1,0,1,0,1,0,1,0,1,0,1,0,0,0,0,1,0,1,0,1]\n",
        "  \n",
        "# Using Dictionary comprehension\n",
        "myDict = {key: None for key in keyList}\n",
        "print(myDict)\n"
      ],
      "metadata": {
        "colab": {
          "base_uri": "https://localhost:8080/"
        },
        "id": "tYu_r6tIomBW",
        "outputId": "559b0f03-41a0-4213-d58d-9dd65fb78828"
      },
      "execution_count": null,
      "outputs": [
        {
          "output_type": "stream",
          "name": "stdout",
          "text": [
            "{0: None, 1: None}\n"
          ]
        }
      ]
    },
    {
      "cell_type": "code",
      "source": [
        "fig = plt.figure()\n",
        "Loss=[ [0]*10 for i in range(10)]\n",
        "for i in range(len(A)):\n",
        "  for j in range(len(A[i])):\n",
        "    Loss[i][j] = (B[i][j]-A.transpose()[i][j]*A[i][j])**2\n",
        "    print(Loss)\n",
        "    \n",
        " "
      ],
      "metadata": {
        "id": "iHGebZ7com4D"
      },
      "execution_count": null,
      "outputs": []
    },
    {
      "cell_type": "code",
      "source": [
        "G=2*np.dot([B-np.dot(A.transpose(),A)],A.transpose())\n",
        "G\n"
      ],
      "metadata": {
        "colab": {
          "base_uri": "https://localhost:8080/"
        },
        "id": "XQZyx6L1xlaK",
        "outputId": "0126a58f-ce07-4013-daba-eafe0b1d2e0a"
      },
      "execution_count": null,
      "outputs": [
        {
          "output_type": "execute_result",
          "data": {
            "text/plain": [
              "array([[[0., 0., 0., 0., 0., 0., 0., 0., 0., 0.],\n",
              "        [0., 0., 0., 0., 0., 0., 0., 0., 0., 0.],\n",
              "        [0., 0., 0., 0., 0., 0., 0., 0., 0., 0.],\n",
              "        [0., 0., 0., 0., 0., 0., 0., 0., 0., 0.],\n",
              "        [0., 0., 0., 0., 0., 0., 0., 0., 0., 0.],\n",
              "        [0., 0., 0., 0., 0., 0., 0., 0., 0., 0.],\n",
              "        [0., 0., 0., 0., 0., 0., 0., 0., 0., 0.],\n",
              "        [0., 0., 0., 0., 0., 0., 0., 0., 0., 0.],\n",
              "        [0., 0., 0., 0., 0., 0., 0., 0., 0., 0.],\n",
              "        [0., 0., 0., 0., 0., 0., 0., 0., 0., 0.]]])"
            ]
          },
          "metadata": {},
          "execution_count": 9
        }
      ]
    },
    {
      "cell_type": "code",
      "source": [
        "import numpy as np\n",
        "\n",
        "class Factor(object):\n",
        "    # class variables\n",
        "    # self.vars : list of variables in order\n",
        "    # self.idInfo : dict of vars and vals\n",
        "    # self.pTable : probability table\n",
        "\n",
        "    # __init__()\n",
        "    # vars: list of variables\n",
        "    # vals: 2d list of values of variables\n",
        "    # p: 2d list of probability of values\n",
        "    def __init__(self, vars, vals, p):\n",
        "        if len(vars) == 0:\n",
        "            return\n",
        "\n",
        "        # Set variables\n",
        "        self.vars = vars\n",
        "\n",
        "        # Get count of variables\n",
        "        cntVars = len(vars)\n",
        "        # Generate identity information\n",
        "        self.idInfo = dict()\n",
        "        for i in xrange(0, cntVars):\n",
        "            self.idInfo[vars[i]] = vals[i]\n",
        "\n",
        "        # Generate np array\n",
        "        self.pTable = np.array(p)\n",
        "        rankTable = ()\n",
        "        for i in xrange(0, cntVars):\n",
        "            curTuple = (len(vals[i]),)\n",
        "            rankTable = rankTable + curTuple\n",
        "        # Reshape\n",
        "        self.pTable = self.pTable.reshape(rankTable)\n",
        "\n",
        "    # print_table_recurse(): print_table() helper function\n",
        "    def print_table_recurse(self, curTuple):\n",
        "        # Print probability recursively\n",
        "        lenCurTuple = len(curTuple)\n",
        "        if (len(self.vars) == lenCurTuple):\n",
        "            # Base: Print\n",
        "            for i in xrange(0, len(self.vars)):\n",
        "                vals = self.idInfo[self.vars[i]]\n",
        "                print vals[curTuple[i]],\n",
        "                print(','),\n",
        "            print(': '),\n",
        "            print self.pTable.item(curTuple)\n",
        "        else:\n",
        "            # Next variable\n",
        "            vals = self.idInfo[self.vars[lenCurTuple]]\n",
        "            for i in xrange(0, len(vals)):\n",
        "                nextTuple = (i, )\n",
        "                self.print_table_recurse(curTuple + nextTuple)\n",
        "\n",
        "    # print_table(): Print current factor in a neat form\n",
        "    def print_table(self):\n",
        "        # Use for printing probability\n",
        "        curTuple = ()\n",
        "        print(self.vars)\n",
        "        self.print_table_recurse(curTuple)\n",
        "\n",
        "    # copy(): Duplicate current factor\n",
        "    def copy(self):\n",
        "        fN = Factor([],[],[])\n",
        "        fN.vars = list(self.vars)\n",
        "        fN.idInfo = dict(self.idInfo)\n",
        "        fN.pTable = self.pTable.copy()\n",
        "        return fN\n",
        "\n",
        "    # sort_factor(): Sort variables in this factor\n",
        "    def sort_factor(self):\n",
        "       for i in xrange(0, len(self.vars) - 1):\n",
        "           for j in xrange(0, len(self.vars) - 1 - i):\n",
        "               if (self.vars[i] > self.vars[i + 1]):\n",
        "                   # swap variables\n",
        "                   tmp = self.vars[i]\n",
        "                   self.vars[i] = self.vars[i + 1]\n",
        "                   self.vars[i + 1] = tmp\n",
        "                   # swap axes\n",
        "                   self.pTable = np.swapaxes(self.pTable, i, i + 1)\n",
        "\n",
        "    # restrict()\n",
        "    # f: Factor object\n",
        "    # variable: Restricted variable\n",
        "    # value: Variable's value\n",
        "    @staticmethod\n",
        "    def restrict(f, variable, value):\n",
        "        # Create new factor object & copy\n",
        "        fN = f.copy()\n",
        "        # Find index of variable\n",
        "        idxVar = fN.vars.index(variable)\n",
        "        # Construct sliceObjTuple\n",
        "        sliceObjTuple = ()\n",
        "        for i in xrange(0, idxVar):\n",
        "            vals = fN.idInfo[fN.vars[i]]\n",
        "            sliceObjTuple += slice(None),\n",
        "        # Process target variable's value\n",
        "        vals = fN.idInfo[fN.vars[idxVar]]\n",
        "        idxVal = vals.index(value)\n",
        "        sliceObjTuple += slice(idxVal, idxVal + 1),\n",
        "        # 1. Slice vars\n",
        "        var = fN.vars[idxVar]\n",
        "        del fN.vars[idxVar]\n",
        "        # 2. Slice vals\n",
        "        del fN.idInfo[var]\n",
        "        # 3. Slice pTable\n",
        "        fN.pTable = fN.pTable[sliceObjTuple]\n",
        "        rankTable = ()\n",
        "        for i in xrange(0, len(fN.vars)):\n",
        "            vals = fN.idInfo[fN.vars[i]]\n",
        "            curTuple = (len(vals),)\n",
        "            rankTable = rankTable + curTuple         \n",
        "        fN.pTable = fN.pTable.reshape(rankTable)\n",
        "        return fN\n",
        "\n",
        "    # multiply()\n",
        "    # fl: Left Factor object\n",
        "    # fr: Right Factor object\n",
        "    @staticmethod\n",
        "    def multiply(fl, fr):\n",
        "        # Sort each factor\n",
        "        fl.sort_factor()\n",
        "        fr.sort_factor()\n",
        "        # Calculate common variables\n",
        "        commonVars = list()\n",
        "        for var in fl.vars:\n",
        "            if var in fr.vars:\n",
        "                commonVars.append(var)\n",
        "        for var in fr.vars:\n",
        "            if var in fl.vars:\n",
        "                if not(var in commonVars):\n",
        "                    commonVars.append(var)\n",
        "        # Calculate union variables\n",
        "        unionVars = list(fl.vars)\n",
        "        for var in fr.vars:\n",
        "            if not (var in commonVars):\n",
        "                unionVars.append(var)\n",
        "        # Sort both lists\n",
        "        commonVars.sort()\n",
        "        unionVars.sort()\n",
        "\n",
        "        # Check each variable\n",
        "        flTuple = ()\n",
        "        frTuple = ()\n",
        "        for var in unionVars:\n",
        "            if var in fl.vars:\n",
        "                flTuple += (len(fl.idInfo[var]), )\n",
        "            else:\n",
        "                flTuple += (1, )\n",
        "            if var in fr.vars:\n",
        "                frTuple += (len(fr.idInfo[var]), )\n",
        "            else:\n",
        "                frTuple += (1, )\n",
        "        # Reshape\n",
        "        pTableL = fl.pTable.reshape(flTuple)\n",
        "        pTableR = fr.pTable.reshape(frTuple)\n",
        "\n",
        "        # Create new factor object\n",
        "        fN = Factor([],[],[])\n",
        "        fN.pTable = pTableL * pTableR\n",
        "        fN.vars = unionVars\n",
        "        fN.idInfo = dict()\n",
        "        for var in unionVars:\n",
        "            if var in fl.idInfo:\n",
        "                fN.idInfo[var] = list(fl.idInfo[var])\n",
        "            if var in fr.idInfo:\n",
        "                fN.idInfo[var] = list(fr.idInfo[var])\n",
        "        return fN\n",
        "\n",
        "    # sumout()\n",
        "    # f: Factor object\n",
        "    # variable: Summout variable\n",
        "    @staticmethod\n",
        "    def sumout(f, variable):\n",
        "        # Create new factor object & copy\n",
        "        fN = f.copy()\n",
        "        # Get var index & update variables list\n",
        "        varIdx = fN.vars.index(variable)\n",
        "        del fN.vars[varIdx]\n",
        "        # Update idInfo\n",
        "        del fN.idInfo[variable]\n",
        "        # Update pTable\n",
        "        fN.pTable = fN.pTable.sum(axis = varIdx)\n",
        "        return fN\n",
        "\n",
        "    # normalize()\n",
        "    # f: Factor object\n",
        "    @staticmethod\n",
        "    def normalize(f):\n",
        "        # Create new factor object & copy\n",
        "        fN = f.copy()\n",
        "        # Normalize\n",
        "        sum = fN.pTable.sum()\n",
        "        fN.pTable = fN.pTable / sum\n",
        "        return fN\n",
        "    \n",
        "    # inference()\n",
        "    # fList: List of Factor objects\n",
        "    # queryVars: query Variables\n",
        "    # orderedHiddenVarsList: List of strings of Variable\n",
        "    # evidenceList: Dict of Variable : Value\n",
        "    @staticmethod\n",
        "    def inference(fList, queryVars, orderedHiddenVarsList, evidenceList):\n",
        "        # Restrict by evidence\n",
        "        for e in evidenceList:\n",
        "            fListN = list()\n",
        "            for factor in fList:\n",
        "                if (e in factor.vars):\n",
        "                    fRestrict = Factor.restrict(factor, e, evidenceList[e])\n",
        "                    print 'Restrict:',\n",
        "                    print e\n",
        "                    fRestrict.print_table()\n",
        "                    fListN.append(fRestrict)\n",
        "                else:\n",
        "                    fListN.append(factor)\n",
        "            # Update factor list\n",
        "            fList = fListN\n",
        "\n",
        "        # Elimination\n",
        "        for hV in orderedHiddenVarsList:\n",
        "            fListM = list() # list of factors needed to be multiplied\n",
        "            fListNM = list() # list of factors not needed to be multiplied\n",
        "            # Split\n",
        "            for factor in fList:\n",
        "                if (hV in factor.vars):\n",
        "                    fListM.append(factor)\n",
        "                else:\n",
        "                    fListNM.append(factor)\n",
        "            \n",
        "            # Multiply all\n",
        "            fProduct = reduce(Factor.multiply, fListM)\n",
        "            print 'Multiply:',\n",
        "            print hV\n",
        "            fProduct.print_table()\n",
        "            # Sumout\n",
        "            fSumout = Factor.sumout(fProduct, hV)\n",
        "            print 'Sumout:',\n",
        "            print hV\n",
        "            fSumout.print_table()\n",
        "            # Update factor list\n",
        "            fList = fListNM\n",
        "            fList.append(fSumout)\n",
        "\n",
        "        # The remaining factors only refer to query variable\n",
        "        # Take product & normalize\n",
        "        fProduct = reduce(Factor.multiply, fList)\n",
        "        print 'Last Multiply:'\n",
        "        fProduct.print_table()\n",
        "        print 'Normalize'\n",
        "        fResult = Factor.normalize(fProduct)\n",
        "        return fResult\n",
        "\n",
        "            "
      ],
      "metadata": {
        "id": "L6h_cKZhovQb"
      },
      "execution_count": null,
      "outputs": []
    },
    {
      "cell_type": "code",
      "source": [
        "from factor import Factor\n",
        "\n",
        "def q2b1():\n",
        "    f1 = Factor(['Trav'], \\\n",
        "    [['t', 'f']], \\\n",
        "    [0.05, 0.95])\n",
        "\n",
        "    f2 = Factor(['Fraud', 'Trav'], \\\n",
        "    [['t', 'f'], ['t', 'f']], \\\n",
        "    [0.01, 0.004, 0.99, 0.996])\n",
        "\n",
        "    fL = [f1, f2]\n",
        "    qL = ['Fraud']\n",
        "    hL = ['Trav']\n",
        "    eL = dict()\n",
        "    fRes = Factor.inference(fL, qL, hL, eL)\n",
        "    fRes.print_table()\n",
        "\n",
        "q2b1()"
      ],
      "metadata": {
        "id": "gy7QOR75ponP"
      },
      "execution_count": null,
      "outputs": []
    }
  ]
}